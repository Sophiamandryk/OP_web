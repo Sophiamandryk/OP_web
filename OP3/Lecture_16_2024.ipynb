{
  "cells": [
    {
      "cell_type": "markdown",
      "metadata": {
        "id": "GAgIn4WIC_RA"
      },
      "source": [
        "#Код до лекції №16"
      ]
    },
    {
      "cell_type": "markdown",
      "metadata": {
        "id": "h2aKhXnBDOOC"
      },
      "source": [
        "###1. Вступ"
      ]
    },
    {
      "cell_type": "markdown",
      "metadata": {
        "id": "cCtHJHhQDeIK"
      },
      "source": [
        "Завдання: *Знайти координати точки на площині при її повороті на заданий кут навколо заданої точки площини.*"
      ]
    },
    {
      "cell_type": "markdown",
      "metadata": {
        "id": "gMbjP_BWDn7H"
      },
      "source": [
        "Алгоритм:\n",
        "1. Ввести вхідні дані:   (x1, y1), (x2, y2), β​\n",
        "\n",
        "2. Визначити координати при переміщенні центру обертання в початок координат:\n",
        "    dx = (x1 – x2),  dy = (y1 – y2)​\n",
        "\n",
        "3. Визначити координати точки після повороту відносно початку координат:​\n",
        "    x3 = dx * cosβ –  dy * sinβ​\n",
        "    y3 = dy * cosβ + dx * sinβ​\n",
        "\n",
        "4. Визначити координати точки після повороту при  поверненні точки обертання в початкове положення: ​\n",
        "    x3 = x3 + x2,  y3 = y3 + y2​\n",
        "\n",
        "5. Вивести на екран знайдені координати: x3, y3​"
      ]
    },
    {
      "cell_type": "markdown",
      "metadata": {
        "id": "57e3NWJQEIFg"
      },
      "source": [
        "Варіант 1"
      ]
    },
    {
      "cell_type": "code",
      "execution_count": null,
      "metadata": {
        "colab": {
          "base_uri": "https://localhost:8080/"
        },
        "id": "RTm368FFC4uT",
        "outputId": "05c018e6-9feb-4aea-917a-b2d0bf905770"
      },
      "outputs": [
        {
          "name": "stdout",
          "output_type": "stream",
          "text": [
            "Enter the angle (in degrees): 180\n",
            "Enter the point1 position: \n",
            "4 12\n",
            "Enter the point2 position: \n",
            "1 1\n",
            "\n",
            "Point position after rotation: -2.0, -10.0\n"
          ]
        }
      ],
      "source": [
        "from math import sin, cos, radians\n",
        "\n",
        "def rotation():\n",
        "    '''​\n",
        "\n",
        "    :return: None​\n",
        "\n",
        "    '''\n",
        "\n",
        "    angle = int(input(\"Enter the angle (in degrees): \") )\n",
        "    print(\"Enter the point1 position: \")\n",
        "    xy_point1 = [int(x) for x in input().split()]\n",
        "    print(\"Enter the point2 position: \")\n",
        "    xy_point2 = [int(x) for x in input().split()]\n",
        "\n",
        "    # convert angle to radians​\n",
        "    beta = radians(angle)\n",
        "\n",
        "    ​# x y value of points\n",
        "    x_point1 = xy_point1[0]\n",
        "    y_point1 = xy_point1[1]\n",
        "    x_point2 = xy_point2[0]\n",
        "    y_point2 = xy_point2[1]\n",
        "\n",
        "    # set point 2 in the initial position (0,0)\n",
        "    dx = x_point1 - x_point2\n",
        "    dy = y_point1 - y_point2\n",
        "\n",
        "    # calculate position after rotation\n",
        "    x_point3 = dx * cos(beta) - dy * sin(beta)\n",
        "    y_point3 = dy * cos(beta) + dx * sin(beta)\n",
        "\n",
        "    # calculate real position after rotation​\n",
        "    x_point3 = x_point3 + x_point2\n",
        "    y_point3 = y_point3 + y_point2\n",
        "\n",
        "    print(f\"\\nPoint position after rotation: {x_point3:0.1f}, {y_point3:0.1f}\")\n",
        "\n",
        "rotation()"
      ]
    },
    {
      "cell_type": "markdown",
      "metadata": {
        "id": "L0KyiifSGBoL"
      },
      "source": [
        "Варіант 2."
      ]
    },
    {
      "cell_type": "code",
      "execution_count": null,
      "metadata": {
        "id": "WjYqypj2GH6u"
      },
      "outputs": [],
      "source": [
        "from math import sin, cos, radians\n",
        "\n",
        "def rotation():\n",
        "    '''​\n",
        "\n",
        "    :return: None​\n",
        "\n",
        "    '''\n",
        "\n",
        "    angle, xy_point1, xy_point2 = data_input()\n",
        "\n",
        "    # convert angle to radians​\n",
        "    beta = radians(angle)\n",
        "\n",
        "    ​# x y value of points\n",
        "    x_point1, y_point1 = xy_point1\n",
        "    x_point2, y_point2 = xy_point2\n",
        "\n",
        "    # calculate position after rotation​\n",
        "    x_point3, y_point3 = cal_xypoint(beta, x_point1, y_point1,\n",
        "                                           x_point2, y_point2)\n",
        "\n",
        "    print(f\"\\nPoint position after rotation: {x_point3:0.1f}, {y_point3:0.1f}\")\n",
        "\n",
        "\n",
        "def data_input():\n",
        "    angle = int(input(\"Enter the angle (in degrees): \") )\n",
        "    print(\"Enter the point1 position: \")\n",
        "    xy_point1 = [int(x) for x in input().split()]\n",
        "    print(\"Enter the point2 position: \")\n",
        "    xy_point2 = [int(x) for x in input().split()]\n",
        "\n",
        "    return angle, xy_point1, xy_point2\n",
        "\n",
        "\n",
        "def cal_xypoint(beta, x_point1, y_point1, x_point2, y_point2):\n",
        "    pass\n",
        "\n",
        "\n",
        "rotation()"
      ]
    },
    {
      "cell_type": "markdown",
      "metadata": {
        "id": "YFlpQUPsI5vY"
      },
      "source": [
        "###2. Об'єкти в Python"
      ]
    },
    {
      "cell_type": "markdown",
      "metadata": {
        "id": "CIFNRI5TJYV8"
      },
      "source": [
        "Створення **об'єкта** певного **типу**"
      ]
    },
    {
      "cell_type": "code",
      "execution_count": null,
      "metadata": {
        "colab": {
          "base_uri": "https://localhost:8080/"
        },
        "id": "mSIGHgvXJfHF",
        "outputId": "d7c845ff-dff0-4be4-c0d6-9322568db033"
      },
      "outputs": [
        {
          "name": "stdout",
          "output_type": "stream",
          "text": [
            "[]\n",
            "<class 'list'>\n"
          ]
        }
      ],
      "source": [
        "point = list()\n",
        "print(point)\n",
        "print(type(point))"
      ]
    },
    {
      "cell_type": "markdown",
      "metadata": {
        "id": "ET826kXeJrJQ"
      },
      "source": [
        "Додавання до об'єкту значень чи інших **об'єктів**"
      ]
    },
    {
      "cell_type": "code",
      "execution_count": null,
      "metadata": {
        "colab": {
          "base_uri": "https://localhost:8080/"
        },
        "id": "l8XX8jkILMwn",
        "outputId": "532ea0e7-6f1b-43a0-cec2-1061ea1e0efc"
      },
      "outputs": [
        {
          "name": "stdout",
          "output_type": "stream",
          "text": [
            "<class 'tuple'>\n"
          ]
        },
        {
          "data": {
            "text/plain": [
              "[(4, 5), (4, 5)]"
            ]
          },
          "execution_count": 11,
          "metadata": {},
          "output_type": "execute_result"
        }
      ],
      "source": [
        "point.append((4, 5))\n",
        "print(type(point[0]))\n",
        "point"
      ]
    },
    {
      "cell_type": "markdown",
      "metadata": {
        "id": "_CpsgNEmMWN1"
      },
      "source": [
        "Виконання інших дій над об’єктами за допомогою операторів та методів"
      ]
    },
    {
      "cell_type": "code",
      "execution_count": null,
      "metadata": {
        "colab": {
          "base_uri": "https://localhost:8080/"
        },
        "id": "Ec9A97B1Mdwe",
        "outputId": "d96191a3-940a-4fa7-9b07-4f5631b2e48b"
      },
      "outputs": [
        {
          "name": "stdout",
          "output_type": "stream",
          "text": [
            "(4, 5)\n",
            "1\n",
            "x =  4\n",
            "x =  4\n",
            "x =  4\n",
            "x = x + 12 16\n"
          ]
        },
        {
          "data": {
            "text/plain": [
              "['__add__',\n",
              " '__class__',\n",
              " '__class_getitem__',\n",
              " '__contains__',\n",
              " '__delattr__',\n",
              " '__delitem__',\n",
              " '__dir__',\n",
              " '__doc__',\n",
              " '__eq__',\n",
              " '__format__',\n",
              " '__ge__',\n",
              " '__getattribute__',\n",
              " '__getitem__',\n",
              " '__getstate__',\n",
              " '__gt__',\n",
              " '__hash__',\n",
              " '__iadd__',\n",
              " '__imul__',\n",
              " '__init__',\n",
              " '__init_subclass__',\n",
              " '__iter__',\n",
              " '__le__',\n",
              " '__len__',\n",
              " '__lt__',\n",
              " '__mul__',\n",
              " '__ne__',\n",
              " '__new__',\n",
              " '__reduce__',\n",
              " '__reduce_ex__',\n",
              " '__repr__',\n",
              " '__reversed__',\n",
              " '__rmul__',\n",
              " '__setattr__',\n",
              " '__setitem__',\n",
              " '__sizeof__',\n",
              " '__str__',\n",
              " '__subclasshook__',\n",
              " 'append',\n",
              " 'clear',\n",
              " 'copy',\n",
              " 'count',\n",
              " 'extend',\n",
              " 'index',\n",
              " 'insert',\n",
              " 'pop',\n",
              " 'remove',\n",
              " 'reverse',\n",
              " 'sort']"
            ]
          },
          "execution_count": 9,
          "metadata": {},
          "output_type": "execute_result"
        }
      ],
      "source": [
        "print(point[0])\n",
        "\n",
        "print(point[0].count(4))\n",
        "\n",
        "print('x = ', point[0][0])\n",
        "\n",
        "print('x = ', point[0].__getitem__(0))          # special method​\n",
        "\n",
        "print('x = ', tuple.__getitem__(point[0], 0))\n",
        "\n",
        "print('x = x + 12', point[0][0] + 12)\n"
      ]
    },
    {
      "cell_type": "code",
      "execution_count": null,
      "metadata": {
        "colab": {
          "base_uri": "https://localhost:8080/"
        },
        "id": "goNHB6Ox-jva",
        "outputId": "e5ec7071-872a-4455-b0ef-23948aa50ea9"
      },
      "outputs": [
        {
          "data": {
            "text/plain": [
              "['__add__',\n",
              " '__class__',\n",
              " '__class_getitem__',\n",
              " '__contains__',\n",
              " '__delattr__',\n",
              " '__delitem__',\n",
              " '__dir__',\n",
              " '__doc__',\n",
              " '__eq__',\n",
              " '__format__',\n",
              " '__ge__',\n",
              " '__getattribute__',\n",
              " '__getitem__',\n",
              " '__getstate__',\n",
              " '__gt__',\n",
              " '__hash__',\n",
              " '__iadd__',\n",
              " '__imul__',\n",
              " '__init__',\n",
              " '__init_subclass__',\n",
              " '__iter__',\n",
              " '__le__',\n",
              " '__len__',\n",
              " '__lt__',\n",
              " '__mul__',\n",
              " '__ne__',\n",
              " '__new__',\n",
              " '__reduce__',\n",
              " '__reduce_ex__',\n",
              " '__repr__',\n",
              " '__reversed__',\n",
              " '__rmul__',\n",
              " '__setattr__',\n",
              " '__setitem__',\n",
              " '__sizeof__',\n",
              " '__str__',\n",
              " '__subclasshook__',\n",
              " 'append',\n",
              " 'clear',\n",
              " 'copy',\n",
              " 'count',\n",
              " 'extend',\n",
              " 'index',\n",
              " 'insert',\n",
              " 'pop',\n",
              " 'remove',\n",
              " 'reverse',\n",
              " 'sort']"
            ]
          },
          "execution_count": 10,
          "metadata": {},
          "output_type": "execute_result"
        }
      ],
      "source": [
        "dir(point)"
      ]
    },
    {
      "cell_type": "markdown",
      "metadata": {
        "id": "1f2Gp1D5IzEy"
      },
      "source": [
        "Варіант 3."
      ]
    },
    {
      "cell_type": "markdown",
      "metadata": {
        "id": "3gOoQh587uWy"
      },
      "source": [
        "Якщо до об'єкта можна додавати значення та виконувати інші дії над цим об'єктом, то чи можна поступити аналогічно з об'єктом Point?"
      ]
    },
    {
      "cell_type": "code",
      "execution_count": null,
      "metadata": {
        "colab": {
          "base_uri": "https://localhost:8080/",
          "height": 298
        },
        "id": "10cHm2jJNdMf",
        "outputId": "1bafa46f-310e-41e9-8fe6-b8efa6616a15"
      },
      "outputs": [
        {
          "ename": "NameError",
          "evalue": "name 'Point' is not defined",
          "output_type": "error",
          "traceback": [
            "\u001b[0;31m---------------------------------------------------------------------------\u001b[0m",
            "\u001b[0;31mNameError\u001b[0m                                 Traceback (most recent call last)",
            "\u001b[0;32m<ipython-input-20-57c2b3cc6d97>\u001b[0m in \u001b[0;36m<cell line: 17>\u001b[0;34m()\u001b[0m\n\u001b[1;32m     15\u001b[0m     \u001b[0mprint\u001b[0m\u001b[0;34m(\u001b[0m\u001b[0;34mf\"\\nPoint position after rotation: {point1.x:0.1f}, {point1.y:0.1f}\"\u001b[0m\u001b[0;34m)\u001b[0m\u001b[0;34m\u001b[0m\u001b[0;34m\u001b[0m\u001b[0m\n\u001b[1;32m     16\u001b[0m \u001b[0;34m\u001b[0m\u001b[0m\n\u001b[0;32m---> 17\u001b[0;31m \u001b[0mrotation\u001b[0m\u001b[0;34m(\u001b[0m\u001b[0;34m)\u001b[0m\u001b[0;34m\u001b[0m\u001b[0;34m\u001b[0m\u001b[0m\n\u001b[0m",
            "\u001b[0;32m<ipython-input-20-57c2b3cc6d97>\u001b[0m in \u001b[0;36mrotation\u001b[0;34m()\u001b[0m\n\u001b[1;32m      3\u001b[0m \u001b[0;32mdef\u001b[0m \u001b[0mrotation\u001b[0m\u001b[0;34m(\u001b[0m\u001b[0;34m)\u001b[0m\u001b[0;34m:\u001b[0m\u001b[0;34m\u001b[0m\u001b[0;34m\u001b[0m\u001b[0m\n\u001b[1;32m      4\u001b[0m \u001b[0;34m\u001b[0m\u001b[0m\n\u001b[0;32m----> 5\u001b[0;31m     \u001b[0mpoint1\u001b[0m \u001b[0;34m=\u001b[0m \u001b[0mPoint\u001b[0m\u001b[0;34m(\u001b[0m\u001b[0;34m)\u001b[0m\u001b[0;34m\u001b[0m\u001b[0;34m\u001b[0m\u001b[0m\n\u001b[0m\u001b[1;32m      6\u001b[0m     \u001b[0mpoint2\u001b[0m \u001b[0;34m=\u001b[0m \u001b[0mPoint\u001b[0m\u001b[0;34m(\u001b[0m\u001b[0;34m)\u001b[0m\u001b[0;34m\u001b[0m\u001b[0;34m\u001b[0m\u001b[0m\n\u001b[1;32m      7\u001b[0m \u001b[0;34m\u001b[0m\u001b[0m\n",
            "\u001b[0;31mNameError\u001b[0m: name 'Point' is not defined"
          ]
        }
      ],
      "source": [
        "from math import sin, cos, radians\n",
        "\n",
        "def rotation():\n",
        "\n",
        "    point1 = Point()\n",
        "    point2 = Point()\n",
        "\n",
        "    x_point1, y_point1, x_point2, y_point2, beta = data_input()\n",
        "\n",
        "    point1.x , point1.y = x_point1, y_point1\n",
        "    point2.x , point1.y = x_point2, y_point2\n",
        "\n",
        "    point1.rotate(beta, point2)\n",
        "\n",
        "    print(f\"\\nPoint position after rotation: {point1.x:0.1f}, {point1.y:0.1f}\")\n",
        "\n",
        "rotation()"
      ]
    },
    {
      "cell_type": "markdown",
      "metadata": {
        "id": "Qd7Jdp5gbrTH"
      },
      "source": [
        "###3. Church"
      ]
    },
    {
      "cell_type": "markdown",
      "metadata": {
        "id": "iibQKk5NbrTK"
      },
      "source": [
        "Об'єкт Church. Розглядаємо цей об'єкт як споруду."
      ]
    },
    {
      "cell_type": "code",
      "execution_count": null,
      "metadata": {
        "colab": {
          "base_uri": "https://localhost:8080/",
          "height": 193
        },
        "id": "S7qd4Nxvd41W",
        "outputId": "22546ee9-8868-4b59-b15e-f31ff756c9d5"
      },
      "outputs": [
        {
          "ename": "NameError",
          "evalue": "name 'Church' is not defined",
          "output_type": "error",
          "traceback": [
            "\u001b[0;31m---------------------------------------------------------------------------\u001b[0m",
            "\u001b[0;31mNameError\u001b[0m                                 Traceback (most recent call last)",
            "\u001b[0;32m<ipython-input-1-78e849ba2317>\u001b[0m in \u001b[0;36m<cell line: 0>\u001b[0;34m()\u001b[0m\n\u001b[0;32m----> 1\u001b[0;31m church = Church(1924, \"св. Михайла\", {\"settlement\": \"ХОДАЧКІВ МАЛИЙ\",\n\u001b[0m\u001b[1;32m      2\u001b[0m                                       \u001b[0;34m\"lat\"\u001b[0m\u001b[0;34m:\u001b[0m \u001b[0;36m49.486944\u001b[0m\u001b[0;34m,\u001b[0m\u001b[0;34m\u001b[0m\u001b[0;34m\u001b[0m\u001b[0m\n\u001b[1;32m      3\u001b[0m                                       \"lng\": 25.835833},\n\u001b[1;32m      4\u001b[0m                       \"мур.\", 1810, 1923)\n",
            "\u001b[0;31mNameError\u001b[0m: name 'Church' is not defined"
          ]
        }
      ],
      "source": [
        "church = Church(1924, \"св. Михайла\", {\"settlement\": \"ХОДАЧКІВ МАЛИЙ\",\n",
        "                                      \"lat\": 49.486944,\n",
        "                                      \"lng\": 25.835833},\n",
        "                      \"мур.\", 1810, 1923)"
      ]
    },
    {
      "cell_type": "markdown",
      "metadata": {
        "id": "aXf5SdBjbrTN"
      },
      "source": [
        "NameError!"
      ]
    },
    {
      "cell_type": "markdown",
      "metadata": {
        "id": "jiPXN42bbrTO"
      },
      "source": [
        "####Створення власного типу. Класу."
      ]
    },
    {
      "cell_type": "markdown",
      "metadata": {
        "id": "a08Av8gobrTO"
      },
      "source": [
        "Клас Church.\n",
        "\n",
        "Використовуємо ключове слово class."
      ]
    },
    {
      "cell_type": "code",
      "execution_count": 2,
      "metadata": {
        "id": "xhaFO1CcbrTQ"
      },
      "outputs": [],
      "source": [
        "class Church:\n",
        "    \"\"\" Class for сhurch representation \"\"\""
      ]
    },
    {
      "cell_type": "markdown",
      "metadata": {
        "id": "LzoXrsJKbrTQ"
      },
      "source": [
        "Створено об'єкт Church.\n",
        "\n",
        "Цей об'єкт це клас.\n",
        "\n",
        "Тип цього об'єкту ***type***."
      ]
    },
    {
      "cell_type": "code",
      "execution_count": 3,
      "metadata": {
        "colab": {
          "base_uri": "https://localhost:8080/"
        },
        "id": "VpRO-CUrbrTR",
        "outputId": "73b72871-bcaf-4726-e1d1-c1e8eb807f12"
      },
      "outputs": [
        {
          "data": {
            "text/plain": [
              "type"
            ]
          },
          "execution_count": 3,
          "metadata": {},
          "output_type": "execute_result"
        }
      ],
      "source": [
        "type(Church)"
      ]
    },
    {
      "cell_type": "markdown",
      "metadata": {
        "id": "ysS8MfmRbrTT"
      },
      "source": [
        "Функція isinstance() дозволяє перевірити чи об’єкт є екземпляром певного класу (типу). Інструкція assert дозволяє відлагоджувати код"
      ]
    },
    {
      "cell_type": "code",
      "execution_count": null,
      "metadata": {
        "id": "s2GSOu47brTU"
      },
      "outputs": [],
      "source": [
        "assert isinstance(\"Arman\", str) == True\n",
        "\n",
        "assert isinstance(123, str) == False"
      ]
    },
    {
      "cell_type": "markdown",
      "metadata": {
        "id": "tUdakm3BbrTV"
      },
      "source": [
        "Всі класи в Python є екземплярами класу object"
      ]
    },
    {
      "cell_type": "code",
      "execution_count": 4,
      "metadata": {
        "id": "slaetTi5brTV"
      },
      "outputs": [],
      "source": [
        "assert isinstance(\"Arman\", object) == True\n",
        "assert isinstance(123, object) == True\n",
        "assert isinstance(int, object) == True\n",
        "assert isinstance(str, object) == True"
      ]
    },
    {
      "cell_type": "markdown",
      "metadata": {
        "id": "4Gv5ZEJfbrTW"
      },
      "source": [
        "Клас object має множину атрибутів (змінні всередині класу, які посилаються на методи, функції, змінні чи інші класи)​"
      ]
    },
    {
      "cell_type": "code",
      "execution_count": 9,
      "metadata": {},
      "outputs": [],
      "source": [
        "assert isinstance(Church, object) == True"
      ]
    },
    {
      "cell_type": "code",
      "execution_count": null,
      "metadata": {
        "colab": {
          "base_uri": "https://localhost:8080/"
        },
        "id": "f_g_3DZ6brTW",
        "outputId": "04268b33-79f0-4114-bd61-986607347c6b"
      },
      "outputs": [
        {
          "data": {
            "text/plain": [
              "['__class__',\n",
              " '__delattr__',\n",
              " '__dir__',\n",
              " '__doc__',\n",
              " '__eq__',\n",
              " '__format__',\n",
              " '__ge__',\n",
              " '__getattribute__',\n",
              " '__getstate__',\n",
              " '__gt__',\n",
              " '__hash__',\n",
              " '__init__',\n",
              " '__init_subclass__',\n",
              " '__le__',\n",
              " '__lt__',\n",
              " '__ne__',\n",
              " '__new__',\n",
              " '__reduce__',\n",
              " '__reduce_ex__',\n",
              " '__repr__',\n",
              " '__setattr__',\n",
              " '__sizeof__',\n",
              " '__str__',\n",
              " '__subclasshook__']"
            ]
          },
          "execution_count": 6,
          "metadata": {},
          "output_type": "execute_result"
        }
      ],
      "source": [
        "dir(object)"
      ]
    },
    {
      "cell_type": "code",
      "execution_count": null,
      "metadata": {
        "colab": {
          "base_uri": "https://localhost:8080/"
        },
        "id": "0U3RaEYDbrTW",
        "outputId": "b3678d62-bac5-491a-a6e5-49b060d63b1e"
      },
      "outputs": [
        {
          "data": {
            "text/plain": [
              "['__class__',\n",
              " '__delattr__',\n",
              " '__dict__',\n",
              " '__dir__',\n",
              " '__doc__',\n",
              " '__eq__',\n",
              " '__format__',\n",
              " '__ge__',\n",
              " '__getattribute__',\n",
              " '__getstate__',\n",
              " '__gt__',\n",
              " '__hash__',\n",
              " '__init__',\n",
              " '__init_subclass__',\n",
              " '__le__',\n",
              " '__lt__',\n",
              " '__module__',\n",
              " '__ne__',\n",
              " '__new__',\n",
              " '__reduce__',\n",
              " '__reduce_ex__',\n",
              " '__repr__',\n",
              " '__setattr__',\n",
              " '__sizeof__',\n",
              " '__str__',\n",
              " '__subclasshook__',\n",
              " '__weakref__']"
            ]
          },
          "execution_count": 7,
          "metadata": {},
          "output_type": "execute_result"
        }
      ],
      "source": [
        "dir(Church)"
      ]
    },
    {
      "cell_type": "markdown",
      "metadata": {
        "id": "WJll6EJBbrTX"
      },
      "source": [
        "####Атрибути. Змінні екземпляра класу"
      ]
    },
    {
      "cell_type": "markdown",
      "metadata": {
        "id": "2Q9NDCBDbrTX"
      },
      "source": [
        "Створюється об’єкт Church() й змінній church присвоюється посилання на цей об'єкт.\n",
        "\n",
        "Church() це екземпляр класу Church."
      ]
    },
    {
      "cell_type": "code",
      "execution_count": null,
      "metadata": {
        "id": "-YYVgqdmbrTY"
      },
      "outputs": [],
      "source": [
        "church = Church() #екземпляр"
      ]
    },
    {
      "cell_type": "code",
      "execution_count": null,
      "metadata": {
        "colab": {
          "base_uri": "https://localhost:8080/"
        },
        "id": "rPutVv4OjTNa",
        "outputId": "bd17748e-6e4d-428b-a062-95179f23c9b4"
      },
      "outputs": [
        {
          "data": {
            "text/plain": [
              "__main__.Church"
            ]
          },
          "execution_count": 9,
          "metadata": {},
          "output_type": "execute_result"
        }
      ],
      "source": [
        "type(church)"
      ]
    },
    {
      "cell_type": "markdown",
      "metadata": {
        "id": "OAzGCdabbrTY"
      },
      "source": [
        "Створюються змінні всередині об’єкту Church() – змінні екземпляра.\n",
        "\n",
        "Змінним екземпляра класу присвоюються значення."
      ]
    },
    {
      "cell_type": "code",
      "execution_count": null,
      "metadata": {
        "id": "ZwhyvMh8brTZ"
      },
      "outputs": [],
      "source": [
        "church.year = 1924\n",
        "church.name = \"св. Михайла\"\n",
        "church.location = {\"settlement\": \"ХОДАЧКІВ МАЛИЙ\",\n",
        "                   \"lat\": 49.486944,\n",
        "                   \"lng\": 25.835833}\n",
        "church.building_kind = \"мур.\"\n",
        "church.year_built = 1810\n",
        "church.year_renovation = 1923"
      ]
    },
    {
      "cell_type": "code",
      "execution_count": 12,
      "metadata": {
        "colab": {
          "base_uri": "https://localhost:8080/"
        },
        "id": "ZkeYGSPpbrTZ",
        "outputId": "cbf61a7c-a444-4e47-c380-cdf5cf2d13a2"
      },
      "outputs": [
        {
          "data": {
            "text/plain": [
              "'ХОДАЧКІВ МАЛИЙ'"
            ]
          },
          "execution_count": 12,
          "metadata": {},
          "output_type": "execute_result"
        }
      ],
      "source": [
        "church.location['settlement']"
      ]
    },
    {
      "cell_type": "code",
      "execution_count": null,
      "metadata": {
        "colab": {
          "base_uri": "https://localhost:8080/"
        },
        "id": "7bn6RRRnbrTa",
        "outputId": "8869eb62-f423-4be2-cff7-405f8de82ea3"
      },
      "outputs": [
        {
          "data": {
            "text/plain": [
              "{'year': 1924,\n",
              " 'name': 'св. Михайла',\n",
              " 'location': {'settlement': 'ХОДАЧКІВ МАЛИЙ',\n",
              "  'lat': 49.486944,\n",
              "  'lng': 25.835833},\n",
              " 'building_kind': 'мур.',\n",
              " 'year_built': 1810,\n",
              " 'year_renovation': 1923}"
            ]
          },
          "execution_count": 12,
          "metadata": {},
          "output_type": "execute_result"
        }
      ],
      "source": [
        "church.__dict__"
      ]
    },
    {
      "cell_type": "markdown",
      "metadata": {
        "id": "98JyQdrwbrTa"
      },
      "source": [
        "####Методи"
      ]
    },
    {
      "cell_type": "markdown",
      "metadata": {
        "id": "J_7TxHzBbrTb"
      },
      "source": [
        "Метод building_age"
      ]
    },
    {
      "cell_type": "code",
      "execution_count": 14,
      "metadata": {
        "id": "e5UIx1yVbrTc"
      },
      "outputs": [],
      "source": [
        "class Church:\n",
        "    \"\"\" Class for church representation \"\"\"\n",
        "\n",
        "    def building_age(self):\n",
        "        \"\"\" Return the age of church \"\"\"\n",
        "        return self.year - self.year_built"
      ]
    },
    {
      "cell_type": "code",
      "execution_count": null,
      "metadata": {},
      "outputs": [],
      "source": [
        "lst = [2,3,4,5]\n",
        "# list.count(lst,4) == lst.count(4)"
      ]
    },
    {
      "cell_type": "code",
      "execution_count": 15,
      "metadata": {
        "colab": {
          "base_uri": "https://localhost:8080/"
        },
        "id": "YBrWqrMUbrTc",
        "outputId": "05def286-0655-4aad-e86d-1f79123e66b1"
      },
      "outputs": [
        {
          "data": {
            "text/plain": [
              "114"
            ]
          },
          "execution_count": 15,
          "metadata": {},
          "output_type": "execute_result"
        }
      ],
      "source": [
        "church = Church()\n",
        "church.year = 1924\n",
        "church.name = \"св. Михайла\"\n",
        "church.location = {\"settlement\": \"ХОДАЧКІВ МАЛИЙ\",\n",
        "                   \"lat\": 49.486944,\n",
        "                   \"lng\": 25.835833}\n",
        "church.building_kind = \"мур.\"\n",
        "church.year_built = 1810\n",
        "church.year_renovation = 1923\n",
        "\n",
        "church.building_age()"
      ]
    },
    {
      "cell_type": "code",
      "execution_count": 16,
      "metadata": {},
      "outputs": [
        {
          "data": {
            "text/plain": [
              "114"
            ]
          },
          "execution_count": 16,
          "metadata": {},
          "output_type": "execute_result"
        }
      ],
      "source": [
        "Church.building_age(church)"
      ]
    },
    {
      "attachments": {},
      "cell_type": "markdown",
      "metadata": {
        "id": "XOeBgUSTbrTd"
      },
      "source": [
        "Метод **`__init__`** конструктор\n"
      ]
    },
    {
      "cell_type": "code",
      "execution_count": null,
      "metadata": {
        "id": "QhxHdpYkbrTd"
      },
      "outputs": [],
      "source": [
        "class Church:\n",
        "    \"\"\" Class for church representation \"\"\"\n",
        "\n",
        "    def __init__(self, year, name, location, building_kind, year_built, year_renovation):\n",
        "        self.year = year\n",
        "        self.name = name\n",
        "        self.location = location\n",
        "        self.building_kind = building_kind\n",
        "        self.year_built = year_built\n",
        "        self.year_renovation = year_renovation\n",
        "\n",
        "    def building_age(self):\n",
        "        \"\"\" Return the age of church \"\"\"\n",
        "        return self.year - self.year_built"
      ]
    },
    {
      "cell_type": "code",
      "execution_count": null,
      "metadata": {
        "id": "HEHJGcgubrTd"
      },
      "outputs": [],
      "source": [
        "church = Church(1924, \"св. Михайла\", {\"settlement\": \"ХОДАЧКІВ МАЛИЙ\",  \"lat\": 49.486944,  \"lng\": 25.835833},\"мур.\", 1810, 1923)"
      ]
    },
    {
      "cell_type": "code",
      "execution_count": 18,
      "metadata": {
        "colab": {
          "base_uri": "https://localhost:8080/"
        },
        "id": "8gLKUQKA3GUc",
        "outputId": "6e004fdf-aa11-44b6-9e73-bfffce885332"
      },
      "outputs": [
        {
          "data": {
            "text/plain": [
              "1924"
            ]
          },
          "execution_count": 18,
          "metadata": {},
          "output_type": "execute_result"
        }
      ],
      "source": [
        "church.location[\"lat\"]\n",
        "getattr(church, 'year')"
      ]
    },
    {
      "cell_type": "code",
      "execution_count": 19,
      "metadata": {
        "colab": {
          "base_uri": "https://localhost:8080/"
        },
        "id": "L6-_4DxVbrTe",
        "outputId": "6a043f7d-74e7-416e-fd61-55243f8fa27d"
      },
      "outputs": [
        {
          "data": {
            "text/plain": [
              "114"
            ]
          },
          "execution_count": 19,
          "metadata": {},
          "output_type": "execute_result"
        }
      ],
      "source": [
        "church.building_age()"
      ]
    },
    {
      "cell_type": "markdown",
      "metadata": {
        "id": "d7594QdMbrTf"
      },
      "source": [
        "Спеціальні методи **`__repr__`** та **`__str__`**​"
      ]
    },
    {
      "cell_type": "code",
      "execution_count": 21,
      "metadata": {},
      "outputs": [
        {
          "data": {
            "text/plain": [
              "'<__main__.Church object at 0x105e01310>'"
            ]
          },
          "execution_count": 21,
          "metadata": {},
          "output_type": "execute_result"
        }
      ],
      "source": [
        "repr(church)"
      ]
    },
    {
      "cell_type": "code",
      "execution_count": 23,
      "metadata": {
        "colab": {
          "base_uri": "https://localhost:8080/"
        },
        "id": "SzWJ-bTjbrTg",
        "outputId": "9c979790-9a51-4dcd-c4db-38505e858b72"
      },
      "outputs": [
        {
          "name": "stdout",
          "output_type": "stream",
          "text": [
            "<method-wrapper '__str__' of Church object at 0x105e01310>\n"
          ]
        }
      ],
      "source": [
        "print(church.__str__)"
      ]
    },
    {
      "cell_type": "code",
      "execution_count": null,
      "metadata": {
        "colab": {
          "base_uri": "https://localhost:8080/"
        },
        "id": "1kFe3DO3brTg",
        "outputId": "f6813e73-4522-4ac6-d3a7-11002925d214"
      },
      "outputs": [
        {
          "name": "stdout",
          "output_type": "stream",
          "text": [
            "<__main__.Church object at 0x7d0b8e4c2c90>\n",
            "<method-wrapper '__str__' of Church object at 0x7d0b8e4c2c90>\n"
          ]
        }
      ],
      "source": [
        "print(church.__str__())\n",
        "\n",
        "print(church.__str__)\n"
      ]
    },
    {
      "cell_type": "code",
      "execution_count": null,
      "metadata": {
        "colab": {
          "base_uri": "https://localhost:8080/"
        },
        "id": "2Sv14KcJbrTh",
        "outputId": "7df93b48-5946-43f4-87b3-a77b10cba63a"
      },
      "outputs": [
        {
          "name": "stdout",
          "output_type": "stream",
          "text": [
            "<__main__.Church object at 0x7d0b8e4c2c90>\n",
            "<method-wrapper '__repr__' of Church object at 0x7d0b8e4c2c90>\n"
          ]
        }
      ],
      "source": [
        "print(church.__repr__())\n",
        "\n",
        "print(church.__repr__)"
      ]
    },
    {
      "cell_type": "code",
      "execution_count": 27,
      "metadata": {
        "id": "Rn1RkOc6brTh"
      },
      "outputs": [
        {
          "data": {
            "text/plain": [
              "'Church'"
            ]
          },
          "execution_count": 27,
          "metadata": {},
          "output_type": "execute_result"
        }
      ],
      "source": [
        "class Church:\n",
        "    \"\"\" Class for church representation \"\"\"\n",
        "\n",
        "    def __init__(self, year, name, location, building_kind, year_built, year_renovation):\n",
        "        self.year = year\n",
        "        self.name = name\n",
        "        self.location = location\n",
        "        self.building_kind = building_kind\n",
        "        self.year_built = year_built\n",
        "        self.year_renovation = year_renovation\n",
        "\n",
        "    def building_age(self):\n",
        "        \"\"\" Return the age of church \"\"\"\n",
        "        return self.year - self.year_built\n",
        "\n",
        "    def __str__(self):\n",
        "        return (f\"The Church of {self.name!s} \"\n",
        "               f\"is located in {self.location['settlement']!s} \"\n",
        "               f\"and was built in {self.year_built!s}.\")\n",
        "\n",
        "    def __repr__(self):\n",
        "        return (f\"{self.__class__.__name__}({self.year!r}, \"\n",
        "                f\"{self.name!r}, \"\n",
        "                f\"{self.location!r}, \"\n",
        "                f\"{self.building_kind!r}, \"\n",
        "                f\"{self.year_built!r}, \"\n",
        "                f\"{self.year_renovation!r}\")\n",
        "# !s - __str__\n",
        "# !r - __repr__\n",
        "#self.__class__.__name__ - рядок з ім'ям класу\n",
        "church.__class__.__name__\n"
      ]
    },
    {
      "cell_type": "code",
      "execution_count": 26,
      "metadata": {
        "colab": {
          "base_uri": "https://localhost:8080/",
          "height": 54
        },
        "id": "RCa0LLBFbrTh",
        "outputId": "d05bdd5c-06a1-4ed0-a4bd-0128713c085a"
      },
      "outputs": [
        {
          "name": "stdout",
          "output_type": "stream",
          "text": [
            "The Church of св. Михайла is located in ХОДАЧКІВ МАЛИЙ and was built in 1810.\n"
          ]
        },
        {
          "data": {
            "text/plain": [
              "\"Church(1924, 'св. Михайла', {'settlement': 'ХОДАЧКІВ МАЛИЙ', 'lat': 49.486944, 'lng': 25.835833}, 'мур.', 1810, 1923\""
            ]
          },
          "execution_count": 26,
          "metadata": {},
          "output_type": "execute_result"
        }
      ],
      "source": [
        "church = Church(1924, \"св. Михайла\", {\"settlement\": \"ХОДАЧКІВ МАЛИЙ\",\n",
        "                                      \"lat\": 49.486944,\n",
        "                                      \"lng\": 25.835833},\n",
        "                      \"мур.\", 1810, 1923)\n",
        "\n",
        "print(church)\n",
        "\n",
        "repr(church) #інформація для розробників"
      ]
    },
    {
      "cell_type": "markdown",
      "metadata": {
        "id": "k25f2xdhibAA"
      },
      "source": [
        "###4. Клас Point"
      ]
    },
    {
      "cell_type": "code",
      "execution_count": 29,
      "metadata": {
        "id": "HgZNSnYogrKA"
      },
      "outputs": [],
      "source": [
        "from math import radians, cos, sin\n",
        "\n",
        "class Point:\n",
        "    \"\"\"Represents a point in two-dimensional geometric coordinates.\"\"\"\n",
        "\n",
        "    def __init__(self, x=0, y=0):\n",
        "        \"\"\"Initialize the position of a new point.\n",
        "\n",
        "        The x and y coordinates can be specified. If they are not,\n",
        "        the point defaults to the origin.\n",
        "        \"\"\"\n",
        "        self.move(x, y)\n",
        "\n",
        "    def move(self, x, y):\n",
        "        \"\"\"Move the point to a new location in 2D space.\"\"\"\n",
        "        self.x = x\n",
        "        self.y = y\n",
        "\n",
        "    def rotate(self, beta, other_point):\n",
        "        \"\"\"Rotate the point around another point.\n",
        "\n",
        "        Args:\n",
        "            beta (float): The angle of rotation in degrees.\n",
        "            other_point (Point): The point around which to rotate.\n",
        "        \"\"\"\n",
        "        dx = self.x - other_point.x\n",
        "        dy = self.y - other_point.y\n",
        "        beta = radians(beta)\n",
        "        new_x = dx * cos(beta) - dy * sin(beta) + other_point.x\n",
        "        new_y = dy * cos(beta) + dx * sin(beta) + other_point.y\n",
        "        self.move(new_x, new_y)\n"
      ]
    },
    {
      "cell_type": "code",
      "execution_count": 30,
      "metadata": {
        "colab": {
          "base_uri": "https://localhost:8080/"
        },
        "id": "vpGYs-KKiuES",
        "outputId": "cda217da-abb5-4695-84dd-7cc09c91c599"
      },
      "outputs": [
        {
          "name": "stdout",
          "output_type": "stream",
          "text": [
            "Help on class Point in module __main__:\n",
            "\n",
            "class Point(builtins.object)\n",
            " |  Point(x=0, y=0)\n",
            " |  \n",
            " |  Represents a point in two-dimensional geometric coordinates.\n",
            " |  \n",
            " |  Methods defined here:\n",
            " |  \n",
            " |  __init__(self, x=0, y=0)\n",
            " |      Initialize the position of a new point.\n",
            " |      \n",
            " |      The x and y coordinates can be specified. If they are not,\n",
            " |      the point defaults to the origin.\n",
            " |  \n",
            " |  move(self, x, y)\n",
            " |      Move the point to a new location in 2D space.\n",
            " |  \n",
            " |  rotate(self, beta, other_point)\n",
            " |      Rotate the point around another point.\n",
            " |      \n",
            " |      Args:\n",
            " |          beta (float): The angle of rotation in degrees.\n",
            " |          other_point (Point): The point around which to rotate.\n",
            " |  \n",
            " |  ----------------------------------------------------------------------\n",
            " |  Data descriptors defined here:\n",
            " |  \n",
            " |  __dict__\n",
            " |      dictionary for instance variables\n",
            " |  \n",
            " |  __weakref__\n",
            " |      list of weak references to the object\n",
            "\n"
          ]
        }
      ],
      "source": [
        "help(Point)"
      ]
    },
    {
      "cell_type": "code",
      "execution_count": null,
      "metadata": {
        "colab": {
          "base_uri": "https://localhost:8080/"
        },
        "id": "1wR7jp5ReWfF",
        "outputId": "bd0b4567-43d2-4fc3-b99c-7f6cf917ee42"
      },
      "outputs": [
        {
          "name": "stdout",
          "output_type": "stream",
          "text": [
            "\n",
            "Point position after rotation: -2.0, -10.0\n"
          ]
        }
      ],
      "source": [
        "point1 = Point(4, 12)\n",
        "point2 = Point(1, 1)\n",
        "point1.rotate(180, point2) # обернути відносно точки 2\n",
        "\n",
        "print(f\"\\nPoint position after rotation: {point1.x:0.1f}, {point1.y:0.1f}\")"
      ]
    },
    {
      "cell_type": "markdown",
      "metadata": {
        "id": "zPIgKMzwifU6"
      },
      "source": [
        "Клас Point\n",
        "З використанням модуля dataclass"
      ]
    },
    {
      "cell_type": "code",
      "execution_count": null,
      "metadata": {
        "id": "-Xj1mDmaieg6"
      },
      "outputs": [],
      "source": [
        "from dataclasses import dataclass\n",
        "from dataclasses import make_dataclass\n",
        "from math import pi, sin, cos, radians\n",
        "\n",
        "\n",
        "@dataclass\n",
        "class DataClassPoint:\n",
        "    x: float = 0\n",
        "    y: float = 0\n",
        "\n",
        "    def rotate(self, beta, other_point):\n",
        "        \"\"\"Rotate the point around another point.\n",
        "\n",
        "        Args:\n",
        "            beta (float): The angle of rotation in degrees.\n",
        "            other_point (Point): The point around which to rotate.\n",
        "        \"\"\"\n",
        "        dx = self.x - other_point.x\n",
        "        dy = self.y - other_point.y\n",
        "        beta = radians(beta)\n",
        "        self.x = dx * cos(beta) - dy * sin(beta) + other_point.x\n",
        "        self.y = dy * cos(beta) + dx * sin(beta) + other_point.y\n"
      ]
    },
    {
      "cell_type": "code",
      "execution_count": null,
      "metadata": {
        "colab": {
          "base_uri": "https://localhost:8080/"
        },
        "id": "ijHmDYb3jDvw",
        "outputId": "c7db1d12-b859-4f0e-a0dd-07b31a14655d"
      },
      "outputs": [
        {
          "name": "stdout",
          "output_type": "stream",
          "text": [
            "4 12\n",
            "DataClassPoint(x=4, y=12)\n",
            "True\n"
          ]
        }
      ],
      "source": [
        "point1 = DataClassPoint(4, 12)\n",
        "\n",
        "print(point1.x, point1.y)\n",
        "print(point1)\n",
        "\n",
        "print(point1 == DataClassPoint(4, 12))\n"
      ]
    },
    {
      "cell_type": "code",
      "execution_count": null,
      "metadata": {
        "colab": {
          "base_uri": "https://localhost:8080/"
        },
        "id": "1P4MyedAjQD1",
        "outputId": "9b6aee1e-98ab-4a12-85f4-f9328ed0afe9"
      },
      "outputs": [
        {
          "name": "stdout",
          "output_type": "stream",
          "text": [
            "\n",
            "Point position after rotation: -2.0, -10.0\n",
            "\n",
            "Point 2 position: 1.0, 1.0\n"
          ]
        }
      ],
      "source": [
        "point2 = DataClassPoint(1, 1)\n",
        "\n",
        "point1.rotate(180, point2)\n",
        "\n",
        "print(f\"\\nPoint position after rotation: {point1.x:0.1f}, {point1.y:0.1f}\")\n",
        "print(f\"\\nPoint 2 position: {point2.x:0.1f}, {point2.y:0.1f}\")"
      ]
    },
    {
      "cell_type": "code",
      "execution_count": null,
      "metadata": {
        "colab": {
          "base_uri": "https://localhost:8080/"
        },
        "id": "sjSbSgrQjP2K",
        "outputId": "8b16baf4-b1ad-4924-e879-c8ca88c1330b"
      },
      "outputs": [
        {
          "name": "stdout",
          "output_type": "stream",
          "text": [
            "<class 'type'>\n",
            "4 12\n"
          ]
        }
      ],
      "source": [
        "Pointxy = make_dataclass('Point', ['x', 'y'])\n",
        "\n",
        "point = Pointxy(4, 12)\n",
        "\n",
        "print(type(Point))\n",
        "print(point.x, point.y)"
      ]
    }
  ],
  "metadata": {
    "colab": {
      "provenance": []
    },
    "kernelspec": {
      "display_name": "Python 3",
      "language": "python",
      "name": "python3"
    },
    "language_info": {
      "codemirror_mode": {
        "name": "ipython",
        "version": 3
      },
      "file_extension": ".py",
      "mimetype": "text/x-python",
      "name": "python",
      "nbconvert_exporter": "python",
      "pygments_lexer": "ipython3",
      "version": "3.11.9 (v3.11.9:de54cf5be3, Apr  2 2024, 07:12:50) [Clang 13.0.0 (clang-1300.0.29.30)]"
    },
    "vscode": {
      "interpreter": {
        "hash": "aee8b7b246df8f9039afb4144a1f6fd8d2ca17a180786b69acc140d282b71a49"
      }
    }
  },
  "nbformat": 4,
  "nbformat_minor": 0
}
